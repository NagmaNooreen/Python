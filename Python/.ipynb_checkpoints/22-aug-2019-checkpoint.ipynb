{
 "cells": [
  {
   "cell_type": "markdown",
   "metadata": {},
   "source": [
    "# Files\n",
    "\n",
    "## 3 steps to work with files in python\n",
    "- 1) open file by specifing operation\n",
    "- 2) do your required operation\n",
    "- 3) close the file which is opened"
   ]
  },
  {
   "cell_type": "markdown",
   "metadata": {},
   "source": [
    "## reading the book.txt"
   ]
  },
  {
   "cell_type": "code",
   "execution_count": 3,
   "metadata": {},
   "outputs": [
    {
     "name": "stdout",
     "output_type": "stream",
     "text": [
      "line 1\n",
      "line 2\n",
      "line 3\n",
      "line 4\n",
      "line5\n",
      "\n"
     ]
    }
   ],
   "source": [
    "fh=open('book.txt','r')\n",
    "data=fh.read()\n",
    "print(data)\n",
    "fh.close()"
   ]
  },
  {
   "cell_type": "markdown",
   "metadata": {},
   "source": [
    "## Write data into mystory.txt"
   ]
  },
  {
   "cell_type": "code",
   "execution_count": 4,
   "metadata": {},
   "outputs": [],
   "source": [
    "fh=open('mystory.txt','w')\n",
    "content=\"this is my story\"\n",
    "fh.write(content)\n",
    "fh.close()"
   ]
  },
  {
   "cell_type": "markdown",
   "metadata": {},
   "source": [
    "# Task:\n"
   ]
  },
  {
   "cell_type": "code",
   "execution_count": 5,
   "metadata": {},
   "outputs": [],
   "source": [
    "fh=open('book.txt','r')\n",
    "data=fh.read()\n",
    "fh.close()\n",
    "gh=open('mystory.txt','w')\n",
    "gh.write(data)\n",
    "gh.close()\n"
   ]
  },
  {
   "cell_type": "code",
   "execution_count": 7,
   "metadata": {},
   "outputs": [],
   "source": [
    "fr=open('book.txt','r')\n",
    "fw=open('mystory.txt','w')\n",
    "fw.write(fr.read())\n",
    "fw.close()\n",
    "fr.close()"
   ]
  },
  {
   "cell_type": "code",
   "execution_count": 8,
   "metadata": {},
   "outputs": [
    {
     "ename": "UnsupportedOperation",
     "evalue": "not writable",
     "output_type": "error",
     "traceback": [
      "\u001b[1;31m---------------------------------------------------------------------------\u001b[0m",
      "\u001b[1;31mUnsupportedOperation\u001b[0m                      Traceback (most recent call last)",
      "\u001b[1;32m<ipython-input-8-494087992ecd>\u001b[0m in \u001b[0;36m<module>\u001b[1;34m\u001b[0m\n\u001b[0;32m      1\u001b[0m \u001b[0mfr\u001b[0m\u001b[1;33m=\u001b[0m\u001b[0mopen\u001b[0m\u001b[1;33m(\u001b[0m\u001b[1;34m'book.txt'\u001b[0m\u001b[1;33m,\u001b[0m\u001b[1;34m'r'\u001b[0m\u001b[1;33m)\u001b[0m\u001b[1;33m\u001b[0m\u001b[1;33m\u001b[0m\u001b[0m\n\u001b[1;32m----> 2\u001b[1;33m \u001b[0mfr\u001b[0m\u001b[1;33m.\u001b[0m\u001b[0mwrite\u001b[0m\u001b[1;33m(\u001b[0m\u001b[1;34m'hi'\u001b[0m\u001b[1;33m)\u001b[0m\u001b[1;33m\u001b[0m\u001b[1;33m\u001b[0m\u001b[0m\n\u001b[0m\u001b[0;32m      3\u001b[0m \u001b[0mfr\u001b[0m\u001b[1;33m.\u001b[0m\u001b[0mclose\u001b[0m\u001b[1;33m(\u001b[0m\u001b[1;33m)\u001b[0m\u001b[1;33m\u001b[0m\u001b[1;33m\u001b[0m\u001b[0m\n",
      "\u001b[1;31mUnsupportedOperation\u001b[0m: not writable"
     ]
    }
   ],
   "source": [
    "fr=open('book.txt','r')\n",
    "fr.write('hi')\n",
    "fr.close()"
   ]
  },
  {
   "cell_type": "code",
   "execution_count": 9,
   "metadata": {},
   "outputs": [
    {
     "ename": "UnsupportedOperation",
     "evalue": "not readable",
     "output_type": "error",
     "traceback": [
      "\u001b[1;31m---------------------------------------------------------------------------\u001b[0m",
      "\u001b[1;31mUnsupportedOperation\u001b[0m                      Traceback (most recent call last)",
      "\u001b[1;32m<ipython-input-9-ea91d1628cfe>\u001b[0m in \u001b[0;36m<module>\u001b[1;34m\u001b[0m\n\u001b[0;32m      1\u001b[0m \u001b[0mfw\u001b[0m\u001b[1;33m=\u001b[0m\u001b[0mopen\u001b[0m\u001b[1;33m(\u001b[0m\u001b[1;34m'book.txt'\u001b[0m\u001b[1;33m,\u001b[0m\u001b[1;34m'w'\u001b[0m\u001b[1;33m)\u001b[0m\u001b[1;33m\u001b[0m\u001b[1;33m\u001b[0m\u001b[0m\n\u001b[1;32m----> 2\u001b[1;33m \u001b[0mfw\u001b[0m\u001b[1;33m.\u001b[0m\u001b[0mread\u001b[0m\u001b[1;33m(\u001b[0m\u001b[1;33m)\u001b[0m\u001b[1;33m\u001b[0m\u001b[1;33m\u001b[0m\u001b[0m\n\u001b[0m\u001b[0;32m      3\u001b[0m \u001b[0mfw\u001b[0m\u001b[1;33m.\u001b[0m\u001b[0mclose\u001b[0m\u001b[1;33m(\u001b[0m\u001b[1;33m)\u001b[0m\u001b[1;33m\u001b[0m\u001b[1;33m\u001b[0m\u001b[0m\n",
      "\u001b[1;31mUnsupportedOperation\u001b[0m: not readable"
     ]
    }
   ],
   "source": [
    "fw=open('book.txt','w')\n",
    "fw.read()\n",
    "fw.close()"
   ]
  },
  {
   "cell_type": "code",
   "execution_count": 11,
   "metadata": {},
   "outputs": [],
   "source": [
    "fh=open('mystory.txt','w')\n",
    "content='this is my story'\n",
    "fh.write(content)\n",
    "fh.write('this is my second story')\n",
    "fh.close()"
   ]
  },
  {
   "cell_type": "code",
   "execution_count": 15,
   "metadata": {},
   "outputs": [
    {
     "name": "stdout",
     "output_type": "stream",
     "text": [
      "\n"
     ]
    }
   ],
   "source": [
    "fh=open('mystory.txt','r')\n",
    "data= fh.read()\n",
    "data=fh.read()\n",
    "print(data)\n",
    "fh.close()"
   ]
  },
  {
   "cell_type": "code",
   "execution_count": 16,
   "metadata": {},
   "outputs": [
    {
     "name": "stdout",
     "output_type": "stream",
     "text": [
      "\n"
     ]
    }
   ],
   "source": [
    "fh=open('mystory.txt','r')\n",
    "data1= fh.read()\n",
    "data2=fh.read()\n",
    "print(data2)\n",
    "fh.close()"
   ]
  },
  {
   "cell_type": "code",
   "execution_count": 17,
   "metadata": {},
   "outputs": [
    {
     "name": "stdout",
     "output_type": "stream",
     "text": [
      "this is my storythis is my second story\n"
     ]
    }
   ],
   "source": [
    "fh=open('mystory.txt','r')\n",
    "data1= fh.read()\n",
    "data2=fh.read()\n",
    "print(data1)\n",
    "fh.close()"
   ]
  },
  {
   "cell_type": "markdown",
   "metadata": {},
   "source": [
    "# tell\n",
    "- to know the position of the curser"
   ]
  },
  {
   "cell_type": "code",
   "execution_count": 18,
   "metadata": {},
   "outputs": [
    {
     "name": "stdout",
     "output_type": "stream",
     "text": [
      "cursor 0\n",
      "cursor 39\n"
     ]
    }
   ],
   "source": [
    "fh=open('mystory.txt','r')\n",
    "print('cursor',fh.tell())\n",
    "data1=fh.read()\n",
    "print('cursor',fh.tell())\n",
    "fh.close()"
   ]
  },
  {
   "cell_type": "markdown",
   "metadata": {},
   "source": [
    "# seek()\n",
    "- to change the position of cursor"
   ]
  },
  {
   "cell_type": "code",
   "execution_count": 19,
   "metadata": {},
   "outputs": [
    {
     "name": "stdout",
     "output_type": "stream",
     "text": [
      "cursor 39\n",
      "cursor 0\n"
     ]
    }
   ],
   "source": [
    "fh=open('mystory.txt','r')\n",
    "fh.read()\n",
    "print('cursor',fh.tell())\n",
    "fh.seek(0)\n",
    "print('cursor',fh.tell())\n",
    "fh.close()"
   ]
  },
  {
   "cell_type": "code",
   "execution_count": 20,
   "metadata": {},
   "outputs": [
    {
     "name": "stdout",
     "output_type": "stream",
     "text": [
      "cursor 39\n",
      "cursor 0\n",
      "this is my storythis is my second story\n"
     ]
    }
   ],
   "source": [
    "fh=open('mystory.txt','r')\n",
    "fh.read()\n",
    "print('cursor',fh.tell())\n",
    "fh.seek(0)\n",
    "print('cursor',fh.tell())\n",
    "data=fh.read()\n",
    "print(data)\n",
    "fh.close()"
   ]
  },
  {
   "cell_type": "code",
   "execution_count": 23,
   "metadata": {},
   "outputs": [
    {
     "name": "stdout",
     "output_type": "stream",
     "text": [
      "cursor 46\n",
      "cursor 5\n",
      "is my storythis is my second storystory 3\n"
     ]
    }
   ],
   "source": [
    "fh=open('mystory.txt','r')\n",
    "fh.read()\n",
    "print('cursor',fh.tell())\n",
    "fh.seek(5)\n",
    "print('cursor',fh.tell())\n",
    "data=fh.read()\n",
    "print(data)\n",
    "fh.close()"
   ]
  },
  {
   "cell_type": "markdown",
   "metadata": {},
   "source": [
    "# append mode"
   ]
  },
  {
   "cell_type": "code",
   "execution_count": 22,
   "metadata": {},
   "outputs": [],
   "source": [
    "fh=open('mystory.txt','a')\n",
    "fh.write('story 3')\n",
    "fh.close()"
   ]
  },
  {
   "cell_type": "markdown",
   "metadata": {},
   "source": [
    "## Task"
   ]
  },
  {
   "cell_type": "code",
   "execution_count": 32,
   "metadata": {},
   "outputs": [],
   "source": [
    "import re\n",
    "f=open('book.txt','r')\n",
    "g=open('book2.txt','w')\n",
    "for i in f.read():\n",
    "    if re.search('\\d+',i):\n",
    "        g.write(i+'\\n')\n",
    "f.close()\n",
    "g.close()"
   ]
  },
  {
   "cell_type": "code",
   "execution_count": 33,
   "metadata": {},
   "outputs": [],
   "source": [
    "import re\n",
    "f=open('book.txt','r')\n",
    "g=open('book2.txt','w')\n",
    "data=f.read().strip()\n",
    "numbers=re.findall('\\d+',data)\n",
    "for each in numbers:\n",
    "    g.write(each+'\\n')\n",
    "f.close()\n",
    "g.close()"
   ]
  },
  {
   "cell_type": "code",
   "execution_count": 34,
   "metadata": {},
   "outputs": [
    {
     "name": "stdout",
     "output_type": "stream",
     "text": [
      "line 1\n",
      "\n",
      "line 2\n",
      "\n",
      "line 3\n",
      "\n",
      "line 4\n"
     ]
    }
   ],
   "source": [
    "fh=open('book.txt')\n",
    "for line in fh:\n",
    "    print(line)\n",
    "fh.close()"
   ]
  },
  {
   "cell_type": "code",
   "execution_count": 35,
   "metadata": {},
   "outputs": [
    {
     "name": "stdout",
     "output_type": "stream",
     "text": [
      "no of lines in file 4\n"
     ]
    }
   ],
   "source": [
    "fh=open('book.txt')\n",
    "count=0\n",
    "for line in fh:\n",
    "    count+=1\n",
    "print('no of lines in file',count)\n",
    "fh.close()"
   ]
  },
  {
   "cell_type": "code",
   "execution_count": 36,
   "metadata": {},
   "outputs": [
    {
     "name": "stdout",
     "output_type": "stream",
     "text": [
      "line 3\n",
      "\n",
      "no of lines in file 4\n"
     ]
    }
   ],
   "source": [
    "fh=open('book.txt')\n",
    "count=0\n",
    "for line in fh:\n",
    "    count+=1\n",
    "    if count==3:\n",
    "        print(line)\n",
    "print('no of lines in file',count)\n",
    "fh.close()"
   ]
  },
  {
   "cell_type": "markdown",
   "metadata": {},
   "source": [
    "# readline()\n",
    "- read one line from cursor position\n",
    "- string data type"
   ]
  },
  {
   "cell_type": "code",
   "execution_count": 41,
   "metadata": {},
   "outputs": [
    {
     "name": "stdout",
     "output_type": "stream",
     "text": [
      "sai  8944756723\n",
      "\n"
     ]
    }
   ],
   "source": [
    "fh=open('book.txt','r')\n",
    "data=fh.readline()\n",
    "print(data)\n",
    "fh.close()"
   ]
  },
  {
   "cell_type": "code",
   "execution_count": 42,
   "metadata": {},
   "outputs": [
    {
     "name": "stdout",
     "output_type": "stream",
     "text": [
      "ram  9234583458\n",
      "\n"
     ]
    }
   ],
   "source": [
    "fh=open('book.txt','r')\n",
    "data=fh.readline()\n",
    "data= fh.readline()\n",
    "print(data)\n",
    "fh.close()"
   ]
  },
  {
   "cell_type": "markdown",
   "metadata": {},
   "source": [
    "# readline()\n",
    "- read lines from the cursor position \n",
    "- collection of lines means data it means list type"
   ]
  },
  {
   "cell_type": "code",
   "execution_count": 40,
   "metadata": {},
   "outputs": [
    {
     "name": "stdout",
     "output_type": "stream",
     "text": [
      "['sai  8944756723\\n', 'ram  9234583458\\n', 'prem 9843453423']\n"
     ]
    }
   ],
   "source": [
    "fh=open('book.txt','r')\n",
    "data=fh.readlines()\n",
    "print(data)\n",
    "fh.close()"
   ]
  },
  {
   "cell_type": "markdown",
   "metadata": {},
   "source": [
    "### r+ mode"
   ]
  },
  {
   "cell_type": "code",
   "execution_count": 43,
   "metadata": {},
   "outputs": [
    {
     "name": "stdout",
     "output_type": "stream",
     "text": [
      " 8944756723\n",
      "ram  9234583458\n",
      "prem 9843453423\n"
     ]
    }
   ],
   "source": [
    "fh=open('book.txt','r+')\n",
    "fh.write('hiii')\n",
    "data= fh.read()\n",
    "print(data)\n",
    "fh.close()"
   ]
  },
  {
   "cell_type": "markdown",
   "metadata": {},
   "source": [
    "## w+ mode"
   ]
  },
  {
   "cell_type": "code",
   "execution_count": 44,
   "metadata": {},
   "outputs": [
    {
     "name": "stdout",
     "output_type": "stream",
     "text": [
      "\n"
     ]
    }
   ],
   "source": [
    "fh=open('book.txt','w+')\n",
    "fh.write('line 6')\n",
    "print(fh.read())\n",
    "fh.close()"
   ]
  },
  {
   "cell_type": "markdown",
   "metadata": {},
   "source": [
    "# Task"
   ]
  },
  {
   "cell_type": "code",
   "execution_count": 76,
   "metadata": {},
   "outputs": [],
   "source": [
    "f=open('data.txt','r')\n",
    "g=open('invalid.txt','w')\n",
    "h=open('valid.txt','w')\n",
    "a=f.readlines()\n",
    "for i in a:\n",
    "    flag=0\n",
    "    k=i.split()\n",
    "    for j in k:\n",
    "        if re.search('^[6789]\\d{9}$',j):\n",
    "            h.write(i)\n",
    "            flag=1\n",
    "    if flag==0:\n",
    "        g.write(i)\n",
    "f.close()\n",
    "g.close()\n",
    "h.close()"
   ]
  },
  {
   "cell_type": "code",
   "execution_count": 84,
   "metadata": {},
   "outputs": [],
   "source": [
    "f=open('data.txt','r')\n",
    "g=open('invalid.txt','w')\n",
    "h=open('valid.txt','w')\n",
    "for line in f:\n",
    "    if re.search(' [0-5]\\d{9}',line):\n",
    "        g.write(line)\n",
    "f.close()\n",
    "g.close()\n",
    "h.close()"
   ]
  },
  {
   "cell_type": "code",
   "execution_count": 86,
   "metadata": {},
   "outputs": [
    {
     "name": "stdout",
     "output_type": "stream",
     "text": [
      "['rno', 'name', 'mobile', 'eng', 'math']\n",
      "['c1', 'sai', '9984894855', '60', '70']\n"
     ]
    }
   ],
   "source": [
    "f=open('report.txt','r')\n",
    "g=open('fail.txt','w')\n",
    "for i in f:\n",
    "    k=i.split()\n",
    "    print (k)\n",
    "\n",
    "\n",
    "f.close()\n",
    "g.close()"
   ]
  },
  {
   "cell_type": "code",
   "execution_count": null,
   "metadata": {},
   "outputs": [],
   "source": []
  }
 ],
 "metadata": {
  "kernelspec": {
   "display_name": "Python 3",
   "language": "python",
   "name": "python3"
  },
  "language_info": {
   "codemirror_mode": {
    "name": "ipython",
    "version": 3
   },
   "file_extension": ".py",
   "mimetype": "text/x-python",
   "name": "python",
   "nbconvert_exporter": "python",
   "pygments_lexer": "ipython3",
   "version": "3.7.3"
  }
 },
 "nbformat": 4,
 "nbformat_minor": 2
}
