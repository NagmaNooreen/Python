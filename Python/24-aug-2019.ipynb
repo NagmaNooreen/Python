{
 "cells": [
  {
   "cell_type": "markdown",
   "metadata": {},
   "source": [
    "# Task"
   ]
  },
  {
   "cell_type": "code",
   "execution_count": null,
   "metadata": {},
   "outputs": [],
   "source": [
    "p=int(input())\n",
    "t=int(input())\n",
    "for i in range(t):\n",
    "    n=int(input())\n",
    "    c=0\n",
    "    special_flag=0\n",
    "    for j in range(2,(n//2)+1):           #PRIME FACTOR INA LEVEL\n",
    "        if(n%j==0):\n",
    "            prime_flag=1\n",
    "            for k in range(2,(j//2)+1):\n",
    "                if(j%k==0):\n",
    "                    prime_flag=0\n",
    "                    break\n",
    "            if(prime_flag==1):\n",
    "                c+=1\n",
    "                if c>=p:\n",
    "                    special_flag=1\n",
    "                    break\n",
    "    if(special_flag==1):\n",
    "        print(\"yes\")\n",
    "    else:\n",
    "        print(\"No\")"
   ]
  },
  {
   "cell_type": "code",
   "execution_count": null,
   "metadata": {},
   "outputs": [],
   "source": [
    "n=input()\n",
    "even=list()          #ODD EXIT\n",
    "while (n!='EXIT'):\n",
    "    n=int(n)\n",
    "    if (n%2==0):\n",
    "        even.append(n)\n",
    "        print(n,end=' ')\n",
    "    n=input()\n",
    "print('\\n',max(even),sep='')\n",
    "    "
   ]
  },
  {
   "cell_type": "markdown",
   "metadata": {},
   "source": [
    "## functions:\n"
   ]
  },
  {
   "cell_type": "code",
   "execution_count": 3,
   "metadata": {},
   "outputs": [
    {
     "name": "stdout",
     "output_type": "stream",
     "text": [
      "2\n",
      "3\n"
     ]
    },
    {
     "data": {
      "text/plain": [
       "5"
      ]
     },
     "execution_count": 3,
     "metadata": {},
     "output_type": "execute_result"
    }
   ],
   "source": [
    "def add():\n",
    "    c=a+b\n",
    "    return c\n",
    "a=int(input())\n",
    "b=int(input())\n",
    "add()"
   ]
  },
  {
   "cell_type": "code",
   "execution_count": 4,
   "metadata": {},
   "outputs": [
    {
     "name": "stdout",
     "output_type": "stream",
     "text": [
      "20\n",
      "30\n"
     ]
    }
   ],
   "source": [
    "a=10\n",
    "def display():\n",
    "    b=20\n",
    "    a=30\n",
    "    print(b)\n",
    "    print(a)\n",
    "display()"
   ]
  },
  {
   "cell_type": "markdown",
   "metadata": {},
   "source": [
    "## types of Arguments in python"
   ]
  },
  {
   "cell_type": "markdown",
   "metadata": {},
   "source": [
    "1. Required Arguements\n",
    "2. Key word Arguements\n",
    "3. Default Arguements\n",
    "4. Variable length Arguements\n"
   ]
  },
  {
   "cell_type": "code",
   "execution_count": 5,
   "metadata": {},
   "outputs": [
    {
     "name": "stdout",
     "output_type": "stream",
     "text": [
      "20 10\n"
     ]
    }
   ],
   "source": [
    "def display(a,b): #required arguements\n",
    "    print(a,b)\n",
    "display(20,10)"
   ]
  },
  {
   "cell_type": "code",
   "execution_count": 11,
   "metadata": {},
   "outputs": [
    {
     "name": "stdout",
     "output_type": "stream",
     "text": [
      "10 20\n"
     ]
    }
   ],
   "source": [
    "def display(a,b): #keyword arguements\n",
    "    print(a,b)\n",
    "display(b=20,a=10)"
   ]
  },
  {
   "cell_type": "code",
   "execution_count": 18,
   "metadata": {},
   "outputs": [
    {
     "name": "stdout",
     "output_type": "stream",
     "text": [
      "abc\n"
     ]
    }
   ],
   "source": [
    "# default arguements\n",
    "def display(name,course='btech'):\n",
    "    print(name)\n",
    "display(name=\"abc\")"
   ]
  },
  {
   "cell_type": "code",
   "execution_count": 19,
   "metadata": {},
   "outputs": [
    {
     "name": "stdout",
     "output_type": "stream",
     "text": [
      "abc btech\n"
     ]
    }
   ],
   "source": [
    "# default arguements\n",
    "def display(name,course='btech'):\n",
    "    print(name,course)\n",
    "display(name=\"abc\")"
   ]
  },
  {
   "cell_type": "code",
   "execution_count": 21,
   "metadata": {},
   "outputs": [
    {
     "name": "stdout",
     "output_type": "stream",
     "text": [
      "abc mtech\n"
     ]
    }
   ],
   "source": [
    "# default arguements\n",
    "def display(name,course='btech'):\n",
    "    print(name,course)\n",
    "display(name=\"abc\",course='mtech')"
   ]
  },
  {
   "cell_type": "code",
   "execution_count": 22,
   "metadata": {},
   "outputs": [
    {
     "ename": "SyntaxError",
     "evalue": "positional argument follows keyword argument (<ipython-input-22-b4ffb0e7f019>, line 4)",
     "output_type": "error",
     "traceback": [
      "\u001b[1;36m  File \u001b[1;32m\"<ipython-input-22-b4ffb0e7f019>\"\u001b[1;36m, line \u001b[1;32m4\u001b[0m\n\u001b[1;33m    display(name=\"abc\",course)\u001b[0m\n\u001b[1;37m                      ^\u001b[0m\n\u001b[1;31mSyntaxError\u001b[0m\u001b[1;31m:\u001b[0m positional argument follows keyword argument\n"
     ]
    }
   ],
   "source": [
    "# default arguements\n",
    "def display(name,course='btech'):\n",
    "    print(name,course)\n",
    "display(name=\"abc\",course)"
   ]
  },
  {
   "cell_type": "code",
   "execution_count": 30,
   "metadata": {},
   "outputs": [
    {
     "name": "stdout",
     "output_type": "stream",
     "text": [
      "20 30\n"
     ]
    }
   ],
   "source": [
    "def display(n,m=30):\n",
    "    print(n,m)\n",
    "display(n=20)"
   ]
  },
  {
   "cell_type": "markdown",
   "metadata": {},
   "source": [
    "# task:"
   ]
  },
  {
   "cell_type": "code",
   "execution_count": 39,
   "metadata": {},
   "outputs": [
    {
     "name": "stdout",
     "output_type": "stream",
     "text": [
      "enter ur no:99\n",
      "[2, 4, 6, 8, 10, 12, 14, 16, 18, 20, 22, 24, 26, 28, 30, 32, 34, 36, 38, 40, 42, 44, 46, 48, 50, 52, 54, 56, 58, 60, 62, 64, 66, 68, 70, 72, 74, 76, 78, 80, 82, 84, 86, 88, 90, 92, 94, 96, 98]\n"
     ]
    }
   ],
   "source": [
    "def even(n):\n",
    "    l=[]\n",
    "    for i in range(1,n+1):\n",
    "        if i%2==0:\n",
    "            l.append(i)\n",
    "    return l\n",
    "n=int(input(\"enter ur no:\"))\n",
    "var=even(n)\n",
    "print(var)"
   ]
  },
  {
   "cell_type": "code",
   "execution_count": 41,
   "metadata": {},
   "outputs": [
    {
     "name": "stdout",
     "output_type": "stream",
     "text": [
      "enter upper bound2\n",
      "enter lower bound:12\n",
      "42\n"
     ]
    }
   ],
   "source": [
    "def even(i):\n",
    "    if i%2==0:\n",
    "        return 1\n",
    "sum=0\n",
    "m=int(input(\"enter upper bound\"))\n",
    "n=int(input(\"enter lower bound:\"))\n",
    "for i in range(m,n+1):\n",
    "    if even(i)==1:\n",
    "        sum+=i\n",
    "print(sum)\n"
   ]
  },
  {
   "cell_type": "code",
   "execution_count": null,
   "metadata": {},
   "outputs": [],
   "source": []
  }
 ],
 "metadata": {
  "kernelspec": {
   "display_name": "Python 3",
   "language": "python",
   "name": "python3"
  },
  "language_info": {
   "codemirror_mode": {
    "name": "ipython",
    "version": 3
   },
   "file_extension": ".py",
   "mimetype": "text/x-python",
   "name": "python",
   "nbconvert_exporter": "python",
   "pygments_lexer": "ipython3",
   "version": "3.7.3"
  }
 },
 "nbformat": 4,
 "nbformat_minor": 2
}
